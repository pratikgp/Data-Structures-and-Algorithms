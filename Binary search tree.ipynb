{
  "cells": [
    {
      "metadata": {
        "state": "normal"
      },
      "cell_type": "markdown",
      "source": "# Lab 11: BSTree"
    },
    {
      "metadata": {
        "state": "normal"
      },
      "cell_type": "markdown",
      "source": "## Exercise 1: BSTree operations"
    },
    {
      "metadata": {
        "state": "normal"
      },
      "cell_type": "markdown",
      "source": "For this exercise you'll implement three additional methods in the binary search tree data structure completed in class, so that you have an opportunity to practice both using the recursive pattern covered in class and navigating the binary tree structure.\n\nThe methods you'll implement are:\n\n1. `count_less_than`: takes an argument `x`, and returns the number of elements in the tree with values less than `x`\n2. `successor`: takes an argument `x`, and returns the smallest value from the tree that is larger than `x` (note that `x` itself does not need to be in the tree); if there are no values larger than `x`, returns `None`\n3. `descendants`: takes an argument `x`, and returns all descendants of `x` in the tree (i.e., all values in the subtree rooted at `x`), ordered by value; if `x` has no descendants or does not exist in the tree, returns an empty list\n\n\nThe cell below contains the (read-only) BSTree implementation from lecture. Beneath that is the cell containing the methods you will be implementing, followed by unit test cells."
    },
    {
      "metadata": {
        "deletable": false,
        "editable": false,
        "id": "bstree_base",
        "state": "read_only",
        "trusted": true
      },
      "cell_type": "code",
      "source": "class BSTree:\n    class Node:\n        def __init__(self, val, left=None, right=None):\n            self.val = val\n            self.left = left\n            self.right = right\n            \n    def __init__(self):\n        self.size = 0\n        self.root = None\n\n    def __contains__(self, val):\n        def contains_rec(node):\n            if not node:\n                return False\n            elif val < node.val:\n                return contains_rec(node.left)\n            elif val > node.val:\n                return contains_rec(node.right)\n            else:\n                return True\n        return contains_rec(self.root)\n\n    def add(self, val):\n        assert(val not in self)\n        def add_rec(node):\n            if not node:\n                return BSTree.Node(val)\n            elif val < node.val:\n                return BSTree.Node(node.val, left=add_rec(node.left), right=node.right)\n            else:\n                return BSTree.Node(node.val, left=node.left, right=add_rec(node.right))\n        self.root = add_rec(self.root)\n        self.size += 1\n        \n    def __delitem__(self, val):\n        assert(val in self)\n        def delitem_rec(node):\n            if val < node.val:\n                node.left = delitem_rec(node.left)\n                return node\n            elif val > node.val:\n                node.right = delitem_rec(node.right)\n                return node\n            else:\n                if not node.left and not node.right:\n                    return None\n                elif node.left and not node.right:\n                    return node.left\n                elif node.right and not node.left:\n                    return node.right\n                else:\n                    # remove the largest value from the left subtree as a replacement\n                    # for the root value of this tree\n                    t = node.left # refers to the candidate for removal\n                    if not t.right:\n                        node.val = t.val\n                        node.left = t.left\n                    else:\n                        n = t\n                        while n.right.right:\n                            n = n.right\n                        t = n.right\n                        n.right = t.left\n                        node.val = t.val\n                    return node\n                \n        self.root = delitem_rec(self.root)\n        self.size -= 1\n\n    def __iter__(self):\n        def iter_rec(node):\n            if node:\n                yield from iter_rec(node.left)\n                yield node.val\n                yield from iter_rec(node.right)\n                    \n        return iter_rec(self.root)\n            \n    def __len__(self):\n        return self.size\n    \n    def pprint(self, width=64):\n        \"\"\"Attempts to pretty-print this tree's contents.\"\"\"\n        height = self.height()\n        nodes  = [(self.root, 0)]\n        prev_level = 0\n        repr_str = ''\n        while nodes:\n            n,level = nodes.pop(0)\n            if prev_level != level:\n                prev_level = level\n                repr_str += '\\n'\n            if not n:\n                if level < height-1:\n                    nodes.extend([(None, level+1), (None, level+1)])\n                repr_str += '{val:^{width}}'.format(val='-', width=width//2**level)\n            elif n:\n                if n.left or level < height-1:\n                    nodes.append((n.left, level+1))\n                if n.right or level < height-1:\n                    nodes.append((n.right, level+1))\n                repr_str += '{val:^{width}}'.format(val=n.val, width=width//2**level)\n        print(repr_str)\n    \n    def height(self):\n        \"\"\"Returns the height of the longest branch of the tree.\"\"\"\n        def height_rec(t):\n            if not t:\n                return 0\n            else:\n                return max(1+height_rec(t.left), 1+height_rec(t.right))\n        return height_rec(self.root)",
      "execution_count": 28,
      "outputs": []
    },
    {
      "metadata": {
        "deletable": false,
        "id": "bstree_additional_methods",
        "starter_code": "class BSTree(BSTree):\n    def count_less_than(self, x):\n        pass\n    \n    def successor(self, x):\n        pass\n        \n    def descendants(self, x):\n        pass",
        "state": "graded",
        "trusted": true
      },
      "cell_type": "code",
      "source": "class BSTree(BSTree):\n    def count_less_than(self, x):\n        cl, cr = 0, 1\n        def clt(node):\n            if node is None:\n                return 0\n            elif x <= node.val:\n                return cl + clt(node.left)\n            else:\n                return cr + clt(node.left) + clt(node.right)  \n        return clt(self.root)\n    \n    def successor(self, x):\n        def s(node, p):\n            if node is None:\n                return None\n            elif x == node.val:\n                if not node.right:\n                    if p is not None:\n                        return p.val\n                    else:\n                        return None\n                else:\n                    return node.right.val\n            elif x < node.val:\n                if not node.left:\n                    return node.val\n                else:\n                    p = node\n                    return s(node.left, p)\n            else:\n                if not node.right:\n                    return None\n                else:\n                    return s(node.right, p)\n        return s(self.root, None)\n        \n    def descendants(self, x):\n        def dRec(node):\n            if node is None:\n                return []\n            else:\n                return dRec(node.left) + [node.val] + dRec(node.right)\n\n        def search(node):\n            if not node:\n                return []\n            elif x == node.val:\n                return dRec(node.left) + dRec(node.right)\n            elif x < node.val:\n                return search(node.left)\n            else:\n                return search(node.right)\n        return search(self.root)",
      "execution_count": 126,
      "outputs": []
    },
    {
      "metadata": {
        "deletable": false,
        "editable": false,
        "id": "bstree_count_less_than_tests",
        "state": "read_only",
        "trusted": true
      },
      "cell_type": "code",
      "source": "# 3 points\n\nt = BSTree()\nfor x in [6, 3, 5, 4, 7, 1, 2, 9, 8, 0]:\n    t.add(x)\n    \nassert t.count_less_than(6) == 6\nassert t.count_less_than(0) == 0\nassert t.count_less_than(9) == 9\nassert t.count_less_than(100) == 10\nassert t.count_less_than(-100) == 0",
      "execution_count": 127,
      "outputs": []
    },
    {
      "metadata": {
        "deletable": false,
        "editable": false,
        "id": "bstree_successor_tests",
        "state": "read_only",
        "trusted": true
      },
      "cell_type": "code",
      "source": "# 3 points\n\nt = BSTree()\nfor x in [6, 3, 5, 4, 7, 1, 2, 9, 8, 0]:\n    t.add(x)\n\nassert t.successor(6) == 7\nassert t.successor(6.5) == 7\nassert t.successor(4) == 5\nassert t.successor(5) == 6\nassert t.successor(8) == 9\nassert t.successor(-1) == 0\nassert t.successor(9) is None\nassert t.successor(10) is None",
      "execution_count": 128,
      "outputs": []
    },
    {
      "metadata": {
        "deletable": false,
        "editable": false,
        "id": "bstree_descendants_tests",
        "state": "read_only",
        "trusted": true
      },
      "cell_type": "code",
      "source": "# 3 points\n\nt = BSTree()\nfor x in [6, 3, 5, 4, 7, 1, 2, 9, 8, 0]:\n    t.add(x)\n\nassert t.descendants(6) == [0, 1, 2, 3, 4, 5, 7, 8, 9]\nassert t.descendants(3) == [0, 1, 2, 4, 5]\nassert t.descendants(7) == [8, 9]\nassert t.descendants(1) == [0, 2]\nassert t.descendants(0) == []\nassert t.descendants(8) == []\nassert t.descendants(100) == []\nassert t.descendants(-100) == []",
      "execution_count": 129,
      "outputs": []
    },
    {
      "metadata": {
        "state": "normal"
      },
      "cell_type": "markdown",
      "source": "## Exercise 2: BSTree as a mapping structure\n\nFor this next exercise you will re-implemet the binary search tree so that it can be used as a mapping structure. The `Node` class will be updated so as to hold separate key and value attributes (instead of a single value, as it currently does), and instead of the `add` method, you should implement the [`__getitem__`](https://docs.python.org/3.5/reference/datamodel.html#object.__getitem__) and [`__setitem__`](https://docs.python.org/3.5/reference/datamodel.html#object.__setitem__) methods in order to associate keys and values. `__delitem__`, `__contains__`, and `__iter__` will also need to be updated, to perform key-based removal, search, and iteration. Finally, the `keys`, `values`, and `items` methods will return iterators that allow the keys, values, and key/value tuples of the tree (all sorted in order of their associated keys) to be traversed.\n\nIf `__setitem__` is called with an existing key, the method will simply locate the associated node and update its value with the newly provided value (as you would expect a mapping structure to do). If either `__getitem__` or `__delitem__` are called with a key that does not exist in the tree, a `KeyError` should be raised.\n\nThe API described above will allow the tree to be used as follows:\n\n    t = BSTree()\n    t[0] = 'zero'\n    t[5] = 'five'\n    t[2] = 'two'\n\n    print(t[5])\n    \n    t[5] = 'FIVE!!!'\n\n    for k,v in t.items():\n        print(k, '=', v)\n\n    del t[2]\n\n    print('length =', len(t))\n    \nThe expected output of the above follows:\n\n    five\n    0 = zero\n    2 = two\n    5 = FIVE!!!\n    length = 2\n\nThe following `BSTree` class contains an updated `Node`, and stubs for the methods you are to implement. The first few simple test cases beneath the class definition should help clarify the required behavior."
    },
    {
      "metadata": {
        "deletable": false,
        "id": "bstree_map",
        "nbgrader": {
          "grade": false,
          "grade_id": "bstree",
          "locked": false,
          "schema_version": 1,
          "solution": true
        },
        "starter_code": "class BSTree:\n    class Node:\n        def __init__(self, key, val, left=None, right=None):\n            self.key = key\n            self.val = val\n            self.left = left\n            self.right = right\n            \n    def __init__(self):\n        self.size = 0\n        self.root = None\n        \n    def __getitem__(self, key):\n        pass\n    \n    def __setitem__(self, key, val):\n        pass        \n        \n    def __delitem__(self, key):\n        pass        \n        \n    def __contains__(self, key):\n        pass        \n    \n    def __len__(self):\n        return self.size\n    \n    def __iter__(self):\n        pass        \n        \n    def keys(self):\n        pass        \n\n    def values(self):\n        pass        \n\n    def items(self):\n        pass        \n        \n    def pprint(self, width=64):\n        \"\"\"Attempts to pretty-print this tree's contents.\"\"\"\n        height = self.height()\n        nodes  = [(self.root, 0)]\n        prev_level = 0\n        repr_str = ''\n        while nodes:\n            n,level = nodes.pop(0)\n            if prev_level != level:\n                prev_level = level\n                repr_str += '\\n'\n            if not n:\n                if level < height-1:\n                    nodes.extend([(None, level+1), (None, level+1)])\n                repr_str += '{val:^{width}}'.format(val='-', width=width//2**level)\n            elif n:\n                if n.left or level < height-1:\n                    nodes.append((n.left, level+1))\n                if n.right or level < height-1:\n                    nodes.append((n.right, level+1))\n                repr_str += '{val:^{width}}'.format(val=n.key, width=width//2**level)\n        print(repr_str)\n    \n    def height(self):\n        \"\"\"Returns the height of the longest branch of the tree.\"\"\"\n        def height_rec(t):\n            if not t:\n                return 0\n            else:\n                return max(1+height_rec(t.left), 1+height_rec(t.right))\n        return height_rec(self.root)",
        "state": "graded",
        "trusted": true
      },
      "cell_type": "code",
      "source": "class BSTree:\n    class Node:\n        def __init__(self, key, val, left=None, right=None):\n            self.key = key\n            self.val = val\n            self.left = left\n            self.right = right\n            \n    def __init__(self):\n        self.size = 0\n        self.root = None\n        \n    def __getitem__(self, key):\n        def get_rec(node):\n            if not node:\n                raise KeyError\n            elif key == node.key:\n                return node.val\n            elif key < node.key:\n                return get_rec(node.left)\n            elif key > node.key:\n                return get_rec(node.right)\n            else:\n                raise KeyError\n        return get_rec(self.root)\n    \n    def __setitem__(self, key, val):\n        def set_rec(node):\n            if not node:\n                return BSTree.Node(key, val)\n            elif key == node.key:\n                node.val = val\n                return node\n            elif key < node.key:\n                node.left = set_rec(node.left)\n                return node\n            elif key > node.key:\n                node.right = set_rec(node.right)\n                return node\n\n        self.root = set_rec(self.root)\n        self.size += 1\n     \n        \n    def __delitem__(self, key):\n        def delitem_rec(node):\n            if key < node.key:\n                node.left = delitem_rec(node.left)\n                return node\n            elif key > node.key:\n                node.right = delitem_rec(node.right)\n                return node\n            elif node.key == key:\n                if not node.left and not node.right:\n                    return None\n                elif node.left and not node.right:\n                    return node.left\n                elif node.right and not node.left:\n                    return node.right\n                else:\n                    cand = node.left\n                    if not cand.right:\n                        node.left = cand.left\n                    else:\n                        p = cand\n                        # locate the parent of the cand\n                        while p.right.right:\n                            p = p.right\n                            cand = p.right\n                            p.right = cand.left\n                    node.val = cand.val\n                    return node\n            else:\n                raise KeyError\n          \n        self.root = delitem_rec(self.root)\n        self.size -= 1\n        \n        \n    def __contains__(self, key):\n        def contains_rec(t): #recursive helper function\n            if not t:\n                return False\n            elif t.key == key:\n                return True\n            elif key < t.key:\n                return contains_rec(t.right)\n            else: \n                return contains_rec(t.left)\n        return contains_rec(self.root)     \n    \n    def __len__(self):\n        return self.size\n    \n    def __iter__(self):\n        def iter_rec(t):\n            if t:\n                yield from iter_rec(t.left)\n                yield t.key\n                yield from iter_rec(t.right)\n        return iter_rec(self.root)\n        \n    def keys(self):\n        def iter_rec(t):\n            if t:\n                yield from iter_rec(t.left)\n                yield t.key\n                yield from iter_rec(t.right)\n        return iter_rec(self.root) \n\n    def values(self):\n        def iter_rec(t):\n            if t:\n                yield from iter_rec(t.left)\n                yield t.val\n                yield from iter_rec(t.right)\n        return iter_rec(self.root)\n        \n\n    def items(self):\n        def iter_rec(t):\n            if t:\n                yield from iter_rec(t.left)\n                yield (t.key, t.val)\n                yield from iter_rec(t.right)\n        return iter_rec(self.root)\n        \n    def pprint(self, width=64):\n        \"\"\"Attempts to pretty-print this tree's contents.\"\"\"\n        height = self.height()\n        nodes  = [(self.root, 0)]\n        prev_level = 0\n        repr_str = ''\n        while nodes:\n            n,level = nodes.pop(0)\n            if prev_level != level:\n                prev_level = level\n                repr_str += '\\n'\n            if not n:\n                if level < height-1:\n                    nodes.extend([(None, level+1), (None, level+1)])\n                repr_str += '{val:^{width}}'.format(val='-', width=width//2**level)\n            elif n:\n                if n.left or level < height-1:\n                    nodes.append((n.left, level+1))\n                if n.right or level < height-1:\n                    nodes.append((n.right, level+1))\n                repr_str += '{val:^{width}}'.format(val=n.key, width=width//2**level)\n        print(repr_str)\n    \n    def height(self):\n        \"\"\"Returns the height of the longest branch of the tree.\"\"\"\n        def height_rec(t):\n            if not t:\n                return 0\n            else:\n                return max(1+height_rec(t.left), 1+height_rec(t.right))\n        return height_rec(self.root)",
      "execution_count": 6,
      "outputs": []
    },
    {
      "metadata": {
        "deletable": false,
        "editable": false,
        "id": "simple_tests_1",
        "nbgrader": {
          "grade": true,
          "grade_id": "simple_tests_1",
          "locked": true,
          "points": 2,
          "schema_version": 1,
          "solution": false
        },
        "state": "read_only",
        "trusted": true
      },
      "cell_type": "code",
      "source": "# 2 points\n\nfrom unittest import TestCase\n\ntc = TestCase()\nt = BSTree()\ntc.assertEqual(len(t), 0)\ntc.assertFalse(0 in t)\nt[0] = 'zero'\ntc.assertTrue(0 in t)\ntc.assertEqual(len(t), 1)",
      "execution_count": 7,
      "outputs": []
    },
    {
      "metadata": {
        "deletable": false,
        "editable": false,
        "id": "simple_tests_2",
        "nbgrader": {
          "grade": true,
          "grade_id": "simple_tests_2",
          "locked": true,
          "points": 2,
          "schema_version": 1,
          "solution": false
        },
        "state": "read_only",
        "trusted": true
      },
      "cell_type": "code",
      "source": "# 2 points\n\nfrom unittest import TestCase\n\ntc = TestCase()\nt = BSTree()\ntc.assertEqual(len(t), 0)\nt[0] = 'zero'\ntc.assertEqual(t[0], 'zero')",
      "execution_count": 8,
      "outputs": []
    },
    {
      "metadata": {
        "deletable": false,
        "editable": false,
        "id": "simple_tests_3",
        "nbgrader": {
          "grade": true,
          "grade_id": "simple_tests_3",
          "locked": true,
          "points": 2,
          "schema_version": 1,
          "solution": false
        },
        "state": "read_only",
        "trusted": true
      },
      "cell_type": "code",
      "source": "# 2 points\n\nfrom unittest import TestCase\n\ntc = TestCase()\nt = BSTree()\ntc.assertEqual(len(t), 0)\nt[0] = 'zero'\ndel t[0]\ntc.assertFalse(0 in t)\ntc.assertEqual(len(t), 0)",
      "execution_count": 9,
      "outputs": []
    },
    {
      "metadata": {
        "deletable": false,
        "editable": false,
        "id": "simple_tests_4",
        "nbgrader": {
          "grade": true,
          "grade_id": "simple_tests_4",
          "locked": true,
          "points": 2,
          "schema_version": 1,
          "solution": false
        },
        "state": "read_only",
        "trusted": true
      },
      "cell_type": "code",
      "source": "# 2 points\n\nfrom unittest import TestCase\n\ntc = TestCase()\nt = BSTree()\nkey_vals = [(0, 'zero'), (2, 'two'), (1, 'one')]\nsorted_key_vals = sorted(key_vals)\n\nfor k,v in key_vals:\n    t[k] = v\n\nfor i,k in enumerate(t.keys()):\n    tc.assertEqual(k, sorted_key_vals[i][0])",
      "execution_count": 10,
      "outputs": []
    },
    {
      "metadata": {
        "deletable": false,
        "editable": false,
        "id": "simple_tests_5",
        "nbgrader": {
          "grade": true,
          "grade_id": "simple_tests_5",
          "locked": true,
          "points": 1,
          "schema_version": 1,
          "solution": false
        },
        "state": "read_only",
        "trusted": true
      },
      "cell_type": "code",
      "source": "# 1 point\n\nfrom unittest import TestCase\n\ntc = TestCase()\nt = BSTree()\nkey_vals = [(0, 'zero'), (2, 'two'), (1, 'one')]\nsorted_key_vals = sorted(key_vals)\n\nfor k,v in key_vals:\n    t[k] = v\n\nfor i,v in enumerate(t.values()):\n    tc.assertEqual(v, sorted_key_vals[i][1])",
      "execution_count": 11,
      "outputs": []
    },
    {
      "metadata": {
        "deletable": false,
        "editable": false,
        "id": "simple_tests_6",
        "nbgrader": {
          "grade": true,
          "grade_id": "simple_tests_6",
          "locked": true,
          "points": 1,
          "schema_version": 1,
          "solution": false
        },
        "state": "read_only",
        "trusted": true
      },
      "cell_type": "code",
      "source": "# 1 point\n\nfrom unittest import TestCase\n\ntc = TestCase()\nt = BSTree()\nkey_vals = [(0, 'zero'), (2, 'two'), (1, 'one')]\nsorted_key_vals = sorted(key_vals)\n\nfor k,v in key_vals:\n    t[k] = v\n\nfor i,(k,v) in enumerate(t.items()):\n    tc.assertEqual(k, sorted_key_vals[i][0])\n    tc.assertEqual(v, sorted_key_vals[i][1])",
      "execution_count": 12,
      "outputs": []
    },
    {
      "metadata": {
        "deletable": false,
        "editable": false,
        "id": "stress_testing",
        "nbgrader": {
          "grade": true,
          "grade_id": "stress_testing",
          "locked": true,
          "points": 5,
          "schema_version": 1,
          "solution": false
        },
        "state": "read_only",
        "trusted": true
      },
      "cell_type": "code",
      "source": "# 3 points\n\nfrom unittest import TestCase\nimport random\n\ntc = TestCase()\nt = BSTree()\nkeys = list(range(100, 1000, 11))\nrandom.shuffle(keys)\nvals = [random.randrange(1000) for _ in range(100, 1000, 11)]\n\nfor i in range(len(keys)):\n    t[keys[i]] = vals[i]\n\nfor i in range(len(keys)):\n    tc.assertEqual(t[keys[i]], vals[i])",
      "execution_count": 13,
      "outputs": []
    },
    {
      "metadata": {
        "deletable": false,
        "editable": false,
        "id": "iter_testing",
        "nbgrader": {
          "grade": true,
          "grade_id": "iter_testing",
          "locked": true,
          "points": 5,
          "schema_version": 1,
          "solution": false
        },
        "state": "read_only",
        "trusted": true
      },
      "cell_type": "code",
      "source": "# 3 points\n\nfrom unittest import TestCase\nimport random\n\ntc = TestCase()\nt = BSTree()\nkeys = list(range(100, 1000, 11))\nshuffled_keys = keys.copy()\nrandom.shuffle(shuffled_keys)\n\nfor k in shuffled_keys:\n    t[k] = str(k)\n\nfor i,k in enumerate(t.keys()):\n    tc.assertEqual(k, keys[i])\n\nfor i,v in enumerate(t.values()):\n    tc.assertEqual(v, str(keys[i]))\n\nfor i,(k,v) in enumerate(t.items()):\n    tc.assertEqual(k, keys[i])\n    tc.assertEqual(v, str(keys[i]))",
      "execution_count": 14,
      "outputs": []
    },
    {
      "metadata": {
        "deletable": false,
        "editable": false,
        "id": "keyerror_tests",
        "nbgrader": {
          "grade": true,
          "grade_id": "keyerror_tests",
          "locked": true,
          "points": 5,
          "schema_version": 1,
          "solution": false
        },
        "state": "read_only",
        "trusted": true
      },
      "cell_type": "code",
      "source": "# 3 points\n\nfrom unittest import TestCase\nimport random\n\ntc = TestCase()\nt = BSTree()\nkeys = list(range(0, 100, 2))\nrandom.shuffle(keys)\n\nfor x in keys:\n    t[x] = x*2\n\nfor k in range(1, 101, 2):\n    with tc.assertRaises(KeyError):\n        v = t[k]",
      "execution_count": 15,
      "outputs": []
    }
  ],
  "metadata": {
    "kernelspec": {
      "name": "python3",
      "display_name": "Python 3",
      "language": "python"
    },
    "language_info": {
      "name": "python",
      "version": "3.7.3",
      "mimetype": "text/x-python",
      "codemirror_mode": {
        "name": "ipython",
        "version": 3
      },
      "pygments_lexer": "ipython3",
      "nbconvert_exporter": "python",
      "file_extension": ".py"
    },
    "mimir": {
      "project_id": "046033cc-b5b4-4ab9-a861-c64c6c9dc048",
      "last_submission_id": "feffd63b-bb8f-4eaa-8e8c-a3aac11d1eb2",
      "data": {}
    },
    "varInspector": {
      "window_display": false,
      "cols": {
        "lenName": 16,
        "lenType": 16,
        "lenVar": 40
      },
      "kernels_config": {
        "python": {
          "library": "var_list.py",
          "delete_cmd_prefix": "del ",
          "delete_cmd_postfix": "",
          "varRefreshCmd": "print(var_dic_list())"
        },
        "r": {
          "library": "var_list.r",
          "delete_cmd_prefix": "rm(",
          "delete_cmd_postfix": ") ",
          "varRefreshCmd": "cat(var_dic_list()) "
        }
      },
      "types_to_exclude": [
        "module",
        "function",
        "builtin_function_or_method",
        "instance",
        "_Feature"
      ]
    }
  },
  "nbformat": 4,
  "nbformat_minor": 2
}